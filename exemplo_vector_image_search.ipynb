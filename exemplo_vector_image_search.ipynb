{
 "cells": [
  {
   "cell_type": "code",
   "execution_count": 4,
   "metadata": {},
   "outputs": [
    {
     "data": {
      "text/plain": [
       "<duckdb.duckdb.DuckDBPyConnection at 0x1b7c826b830>"
      ]
     },
     "execution_count": 4,
     "metadata": {},
     "output_type": "execute_result"
    }
   ],
   "source": [
    "import duckdb\n",
    "import uuid\n",
    "import numpy as np\n",
    "from tqdm import tqdm\n",
    "import pandas as pd\n",
    "\n",
    "embeddings = pd.read_parquet('embeddings.parquet')\n",
    "#embeddings = np.load('embeddings.npy')\n",
    "\n",
    "# Conectar ao banco de dados (ou criar um novo)\n",
    "conn = duckdb.connect('embeddings_2.db')\n",
    "\n",
    "## carrega o vss\n",
    "conn.execute(\"\"\"LOAD vss;\"\"\")\n",
    "conn.execute(\"\"\"SET hnsw_enable_experimental_persistence = True\"\"\")"
   ]
  },
  {
   "cell_type": "code",
   "execution_count": 5,
   "metadata": {},
   "outputs": [],
   "source": [
    "extensoes_duckdb = conn.execute(\"\"\"SELECT extension_name, installed, description\n",
    "                FROM duckdb_extensions();\"\"\").fetchdf()"
   ]
  },
  {
   "cell_type": "code",
   "execution_count": 7,
   "metadata": {},
   "outputs": [
    {
     "data": {
      "text/plain": [
       "'1.0.0'"
      ]
     },
     "execution_count": 7,
     "metadata": {},
     "output_type": "execute_result"
    }
   ],
   "source": [
    "duckdb.__version__"
   ]
  },
  {
   "cell_type": "code",
   "execution_count": 6,
   "metadata": {},
   "outputs": [
    {
     "data": {
      "text/html": [
       "<div>\n",
       "<style scoped>\n",
       "    .dataframe tbody tr th:only-of-type {\n",
       "        vertical-align: middle;\n",
       "    }\n",
       "\n",
       "    .dataframe tbody tr th {\n",
       "        vertical-align: top;\n",
       "    }\n",
       "\n",
       "    .dataframe thead th {\n",
       "        text-align: right;\n",
       "    }\n",
       "</style>\n",
       "<table border=\"1\" class=\"dataframe\">\n",
       "  <thead>\n",
       "    <tr style=\"text-align: right;\">\n",
       "      <th></th>\n",
       "      <th>extension_name</th>\n",
       "      <th>installed</th>\n",
       "      <th>description</th>\n",
       "    </tr>\n",
       "  </thead>\n",
       "  <tbody>\n",
       "    <tr>\n",
       "      <th>0</th>\n",
       "      <td>arrow</td>\n",
       "      <td>False</td>\n",
       "      <td>A zero-copy data integration between Apache Ar...</td>\n",
       "    </tr>\n",
       "    <tr>\n",
       "      <th>1</th>\n",
       "      <td>autocomplete</td>\n",
       "      <td>False</td>\n",
       "      <td>Adds support for autocomplete in the shell</td>\n",
       "    </tr>\n",
       "    <tr>\n",
       "      <th>2</th>\n",
       "      <td>aws</td>\n",
       "      <td>False</td>\n",
       "      <td>Provides features that depend on the AWS SDK</td>\n",
       "    </tr>\n",
       "    <tr>\n",
       "      <th>3</th>\n",
       "      <td>azure</td>\n",
       "      <td>False</td>\n",
       "      <td>Adds a filesystem abstraction for Azure blob s...</td>\n",
       "    </tr>\n",
       "    <tr>\n",
       "      <th>4</th>\n",
       "      <td>delta</td>\n",
       "      <td>False</td>\n",
       "      <td>Adds support for Delta Lake</td>\n",
       "    </tr>\n",
       "    <tr>\n",
       "      <th>5</th>\n",
       "      <td>excel</td>\n",
       "      <td>False</td>\n",
       "      <td>Adds support for Excel-like format strings</td>\n",
       "    </tr>\n",
       "    <tr>\n",
       "      <th>6</th>\n",
       "      <td>fts</td>\n",
       "      <td>True</td>\n",
       "      <td>Adds support for Full-Text Search Indexes</td>\n",
       "    </tr>\n",
       "    <tr>\n",
       "      <th>7</th>\n",
       "      <td>httpfs</td>\n",
       "      <td>False</td>\n",
       "      <td>Adds support for reading and writing files ove...</td>\n",
       "    </tr>\n",
       "    <tr>\n",
       "      <th>8</th>\n",
       "      <td>iceberg</td>\n",
       "      <td>False</td>\n",
       "      <td>Adds support for Apache Iceberg</td>\n",
       "    </tr>\n",
       "    <tr>\n",
       "      <th>9</th>\n",
       "      <td>icu</td>\n",
       "      <td>True</td>\n",
       "      <td>Adds support for time zones and collations usi...</td>\n",
       "    </tr>\n",
       "    <tr>\n",
       "      <th>10</th>\n",
       "      <td>inet</td>\n",
       "      <td>False</td>\n",
       "      <td>Adds support for IP-related data types and fun...</td>\n",
       "    </tr>\n",
       "    <tr>\n",
       "      <th>11</th>\n",
       "      <td>jemalloc</td>\n",
       "      <td>False</td>\n",
       "      <td>Overwrites system allocator with JEMalloc</td>\n",
       "    </tr>\n",
       "    <tr>\n",
       "      <th>12</th>\n",
       "      <td>json</td>\n",
       "      <td>True</td>\n",
       "      <td>Adds support for JSON operations</td>\n",
       "    </tr>\n",
       "    <tr>\n",
       "      <th>13</th>\n",
       "      <td>motherduck</td>\n",
       "      <td>False</td>\n",
       "      <td>Enables motherduck integration with the system</td>\n",
       "    </tr>\n",
       "    <tr>\n",
       "      <th>14</th>\n",
       "      <td>mysql_scanner</td>\n",
       "      <td>False</td>\n",
       "      <td>Adds support for connecting to a MySQL database</td>\n",
       "    </tr>\n",
       "    <tr>\n",
       "      <th>15</th>\n",
       "      <td>parquet</td>\n",
       "      <td>True</td>\n",
       "      <td>Adds support for reading and writing parquet f...</td>\n",
       "    </tr>\n",
       "    <tr>\n",
       "      <th>16</th>\n",
       "      <td>postgres_scanner</td>\n",
       "      <td>True</td>\n",
       "      <td>Adds support for connecting to a Postgres data...</td>\n",
       "    </tr>\n",
       "    <tr>\n",
       "      <th>17</th>\n",
       "      <td>spatial</td>\n",
       "      <td>False</td>\n",
       "      <td>Geospatial extension that adds support for wor...</td>\n",
       "    </tr>\n",
       "    <tr>\n",
       "      <th>18</th>\n",
       "      <td>sqlite_scanner</td>\n",
       "      <td>False</td>\n",
       "      <td>Adds support for reading and writing SQLite da...</td>\n",
       "    </tr>\n",
       "    <tr>\n",
       "      <th>19</th>\n",
       "      <td>substrait</td>\n",
       "      <td>False</td>\n",
       "      <td>Adds support for the Substrait integration</td>\n",
       "    </tr>\n",
       "    <tr>\n",
       "      <th>20</th>\n",
       "      <td>tpcds</td>\n",
       "      <td>False</td>\n",
       "      <td>Adds TPC-DS data generation and query support</td>\n",
       "    </tr>\n",
       "    <tr>\n",
       "      <th>21</th>\n",
       "      <td>tpch</td>\n",
       "      <td>True</td>\n",
       "      <td>Adds TPC-H data generation and query support</td>\n",
       "    </tr>\n",
       "    <tr>\n",
       "      <th>22</th>\n",
       "      <td>vss</td>\n",
       "      <td>True</td>\n",
       "      <td>Adds indexing support to accelerate Vector Sim...</td>\n",
       "    </tr>\n",
       "  </tbody>\n",
       "</table>\n",
       "</div>"
      ],
      "text/plain": [
       "      extension_name  installed  \\\n",
       "0              arrow      False   \n",
       "1       autocomplete      False   \n",
       "2                aws      False   \n",
       "3              azure      False   \n",
       "4              delta      False   \n",
       "5              excel      False   \n",
       "6                fts       True   \n",
       "7             httpfs      False   \n",
       "8            iceberg      False   \n",
       "9                icu       True   \n",
       "10              inet      False   \n",
       "11          jemalloc      False   \n",
       "12              json       True   \n",
       "13        motherduck      False   \n",
       "14     mysql_scanner      False   \n",
       "15           parquet       True   \n",
       "16  postgres_scanner       True   \n",
       "17           spatial      False   \n",
       "18    sqlite_scanner      False   \n",
       "19         substrait      False   \n",
       "20             tpcds      False   \n",
       "21              tpch       True   \n",
       "22               vss       True   \n",
       "\n",
       "                                          description  \n",
       "0   A zero-copy data integration between Apache Ar...  \n",
       "1          Adds support for autocomplete in the shell  \n",
       "2        Provides features that depend on the AWS SDK  \n",
       "3   Adds a filesystem abstraction for Azure blob s...  \n",
       "4                         Adds support for Delta Lake  \n",
       "5          Adds support for Excel-like format strings  \n",
       "6           Adds support for Full-Text Search Indexes  \n",
       "7   Adds support for reading and writing files ove...  \n",
       "8                     Adds support for Apache Iceberg  \n",
       "9   Adds support for time zones and collations usi...  \n",
       "10  Adds support for IP-related data types and fun...  \n",
       "11          Overwrites system allocator with JEMalloc  \n",
       "12                   Adds support for JSON operations  \n",
       "13     Enables motherduck integration with the system  \n",
       "14    Adds support for connecting to a MySQL database  \n",
       "15  Adds support for reading and writing parquet f...  \n",
       "16  Adds support for connecting to a Postgres data...  \n",
       "17  Geospatial extension that adds support for wor...  \n",
       "18  Adds support for reading and writing SQLite da...  \n",
       "19         Adds support for the Substrait integration  \n",
       "20      Adds TPC-DS data generation and query support  \n",
       "21       Adds TPC-H data generation and query support  \n",
       "22  Adds indexing support to accelerate Vector Sim...  "
      ]
     },
     "execution_count": 6,
     "metadata": {},
     "output_type": "execute_result"
    }
   ],
   "source": [
    "extensoes_duckdb"
   ]
  },
  {
   "cell_type": "code",
   "execution_count": 2,
   "metadata": {},
   "outputs": [
    {
     "data": {
      "text/plain": [
       "<duckdb.duckdb.DuckDBPyConnection at 0x28e2b67ef70>"
      ]
     },
     "execution_count": 2,
     "metadata": {},
     "output_type": "execute_result"
    }
   ],
   "source": [
    "conn.execute('''\n",
    "CREATE TABLE IF NOT EXISTS embeddings (\n",
    "    id VARCHAR PRIMARY KEY,\n",
    "    emb FLOAT[512]\n",
    ")\n",
    "''')"
   ]
  },
  {
   "cell_type": "code",
   "execution_count": 3,
   "metadata": {},
   "outputs": [],
   "source": [
    "# Prepare the insert statement\n",
    "insert_query = 'INSERT INTO embeddings (id, emb) VALUES (?, ?) ON CONFLICT (id) DO NOTHING'"
   ]
  },
  {
   "cell_type": "code",
   "execution_count": 4,
   "metadata": {},
   "outputs": [
    {
     "name": "stdout",
     "output_type": "stream",
     "text": [
      "Janica_Kostelic_0001.jpg\n",
      "Tim_Floyd_0002.jpg\n",
      "Benazir_Bhutto_0004.jpg\n"
     ]
    }
   ],
   "source": [
    "for idx, col in embeddings.sample(3).iterrows():\n",
    "    print(col['filename'])"
   ]
  },
  {
   "cell_type": "code",
   "execution_count": 5,
   "metadata": {},
   "outputs": [
    {
     "name": "stderr",
     "output_type": "stream",
     "text": [
      "Processando embeddings:   0%|          | 0/13233 [00:00<?, ?it/s]"
     ]
    },
    {
     "name": "stderr",
     "output_type": "stream",
     "text": [
      "Processando embeddings: 100%|██████████| 13233/13233 [03:47<00:00, 58.23it/s]\n"
     ]
    }
   ],
   "source": [
    "for idx, col in tqdm(embeddings.iterrows(), total=embeddings.shape[0], desc=\"Processando embeddings\"):\n",
    "    # Generate a unique UUID for each embedding\n",
    "    conn.execute(insert_query, (col['filename'], col['emb'].tolist())) "
   ]
  },
  {
   "cell_type": "code",
   "execution_count": 6,
   "metadata": {},
   "outputs": [
    {
     "data": {
      "text/html": [
       "<div>\n",
       "<style scoped>\n",
       "    .dataframe tbody tr th:only-of-type {\n",
       "        vertical-align: middle;\n",
       "    }\n",
       "\n",
       "    .dataframe tbody tr th {\n",
       "        vertical-align: top;\n",
       "    }\n",
       "\n",
       "    .dataframe thead th {\n",
       "        text-align: right;\n",
       "    }\n",
       "</style>\n",
       "<table border=\"1\" class=\"dataframe\">\n",
       "  <thead>\n",
       "    <tr style=\"text-align: right;\">\n",
       "      <th></th>\n",
       "      <th>id</th>\n",
       "      <th>emb</th>\n",
       "    </tr>\n",
       "  </thead>\n",
       "  <tbody>\n",
       "    <tr>\n",
       "      <th>0</th>\n",
       "      <td>Aaron_Eckhart_0001.jpg</td>\n",
       "      <td>[-0.2617725, 0.13214485, 0.45549777, 0.5045976...</td>\n",
       "    </tr>\n",
       "    <tr>\n",
       "      <th>1</th>\n",
       "      <td>Aaron_Guiel_0001.jpg</td>\n",
       "      <td>[-0.12853914, 0.22124381, 0.6593986, 0.3849791...</td>\n",
       "    </tr>\n",
       "    <tr>\n",
       "      <th>2</th>\n",
       "      <td>Aaron_Patterson_0001.jpg</td>\n",
       "      <td>[-0.3216693, -0.09038943, 0.6965564, 0.2071240...</td>\n",
       "    </tr>\n",
       "    <tr>\n",
       "      <th>3</th>\n",
       "      <td>Aaron_Peirsol_0001.jpg</td>\n",
       "      <td>[-0.25898868, 0.5890372, 0.4740734, 0.07177776...</td>\n",
       "    </tr>\n",
       "    <tr>\n",
       "      <th>4</th>\n",
       "      <td>Aaron_Peirsol_0002.jpg</td>\n",
       "      <td>[-0.29221955, 0.22037442, 0.3486757, 0.3206531...</td>\n",
       "    </tr>\n",
       "  </tbody>\n",
       "</table>\n",
       "</div>"
      ],
      "text/plain": [
       "                         id                                                emb\n",
       "0    Aaron_Eckhart_0001.jpg  [-0.2617725, 0.13214485, 0.45549777, 0.5045976...\n",
       "1      Aaron_Guiel_0001.jpg  [-0.12853914, 0.22124381, 0.6593986, 0.3849791...\n",
       "2  Aaron_Patterson_0001.jpg  [-0.3216693, -0.09038943, 0.6965564, 0.2071240...\n",
       "3    Aaron_Peirsol_0001.jpg  [-0.25898868, 0.5890372, 0.4740734, 0.07177776...\n",
       "4    Aaron_Peirsol_0002.jpg  [-0.29221955, 0.22037442, 0.3486757, 0.3206531..."
      ]
     },
     "execution_count": 6,
     "metadata": {},
     "output_type": "execute_result"
    }
   ],
   "source": [
    "conn.execute(\"\"\"SELECT * FROM embeddings LIMIT 5\"\"\").fetchdf()"
   ]
  },
  {
   "cell_type": "code",
   "execution_count": 7,
   "metadata": {},
   "outputs": [
    {
     "data": {
      "text/plain": [
       "<duckdb.duckdb.DuckDBPyConnection at 0x28e2b67ef70>"
      ]
     },
     "execution_count": 7,
     "metadata": {},
     "output_type": "execute_result"
    }
   ],
   "source": [
    "# cria o index HNSW\n",
    "conn.execute(\"\"\"CREATE INDEX idx ON embeddings USING HNSW (emb);\"\"\")"
   ]
  },
  {
   "cell_type": "code",
   "execution_count": 12,
   "metadata": {},
   "outputs": [
    {
     "name": "stdout",
     "output_type": "stream",
     "text": [
      "Realizando busca com Marco_Archer_Cardoso_Moreira_0001.jpg\n"
     ]
    },
    {
     "data": {
      "text/html": [
       "<div>\n",
       "<style scoped>\n",
       "    .dataframe tbody tr th:only-of-type {\n",
       "        vertical-align: middle;\n",
       "    }\n",
       "\n",
       "    .dataframe tbody tr th {\n",
       "        vertical-align: top;\n",
       "    }\n",
       "\n",
       "    .dataframe thead th {\n",
       "        text-align: right;\n",
       "    }\n",
       "</style>\n",
       "<table border=\"1\" class=\"dataframe\">\n",
       "  <thead>\n",
       "    <tr style=\"text-align: right;\">\n",
       "      <th></th>\n",
       "      <th>id</th>\n",
       "      <th>emb</th>\n",
       "    </tr>\n",
       "  </thead>\n",
       "  <tbody>\n",
       "    <tr>\n",
       "      <th>0</th>\n",
       "      <td>Marco_Archer_Cardoso_Moreira_0001.jpg</td>\n",
       "      <td>[-0.3044981, 0.121498756, 0.5377461, 0.4247412...</td>\n",
       "    </tr>\n",
       "    <tr>\n",
       "      <th>1</th>\n",
       "      <td>Odilia_Collazo_0001.jpg</td>\n",
       "      <td>[-0.36626455, -0.032252192, 0.39912647, 0.3220...</td>\n",
       "    </tr>\n",
       "    <tr>\n",
       "      <th>2</th>\n",
       "      <td>Dyab_Abou_Jahjah_0001.jpg</td>\n",
       "      <td>[-0.23786123, -0.08731351, 0.4422093, 0.335136...</td>\n",
       "    </tr>\n",
       "    <tr>\n",
       "      <th>3</th>\n",
       "      <td>Colin_Farrell_0001.jpg</td>\n",
       "      <td>[-0.22449528, 0.15800536, 0.37670103, 0.302245...</td>\n",
       "    </tr>\n",
       "    <tr>\n",
       "      <th>4</th>\n",
       "      <td>Charlie_Sheen_0001.jpg</td>\n",
       "      <td>[-0.30399513, -0.036129907, 0.5045782, 0.36948...</td>\n",
       "    </tr>\n",
       "  </tbody>\n",
       "</table>\n",
       "</div>"
      ],
      "text/plain": [
       "                                      id  \\\n",
       "0  Marco_Archer_Cardoso_Moreira_0001.jpg   \n",
       "1                Odilia_Collazo_0001.jpg   \n",
       "2              Dyab_Abou_Jahjah_0001.jpg   \n",
       "3                 Colin_Farrell_0001.jpg   \n",
       "4                 Charlie_Sheen_0001.jpg   \n",
       "\n",
       "                                                 emb  \n",
       "0  [-0.3044981, 0.121498756, 0.5377461, 0.4247412...  \n",
       "1  [-0.36626455, -0.032252192, 0.39912647, 0.3220...  \n",
       "2  [-0.23786123, -0.08731351, 0.4422093, 0.335136...  \n",
       "3  [-0.22449528, 0.15800536, 0.37670103, 0.302245...  \n",
       "4  [-0.30399513, -0.036129907, 0.5045782, 0.36948...  "
      ]
     },
     "execution_count": 12,
     "metadata": {},
     "output_type": "execute_result"
    }
   ],
   "source": [
    "import random\n",
    "\n",
    "aleatorio = random.randint(0, len(embeddings))\n",
    "\n",
    "print(f'Realizando busca com {embeddings.iloc[aleatorio]['filename']}')\n",
    "\n",
    "# Realizando a busca\n",
    "conn.execute(f\"\"\"SELECT * \n",
    "                FROM embeddings \n",
    "                ORDER BY array_distance(emb, {embeddings.iloc[aleatorio]['emb'].tolist()}::FLOAT[512]) \n",
    "                LIMIT 5;\"\"\").fetch_df()"
   ]
  },
  {
   "cell_type": "code",
   "execution_count": 5,
   "metadata": {},
   "outputs": [
    {
     "data": {
      "text/plain": [
       "<duckdb.duckdb.DuckDBPyConnection at 0x1a3546e44b0>"
      ]
     },
     "execution_count": 5,
     "metadata": {},
     "output_type": "execute_result"
    }
   ],
   "source": [
    "# por padrão, o index HNSW será criado utiizando a distancia euclidiana l2sq (L2-norm squared).\n",
    "# para trocar a distância, pode ser utilizado:\n",
    "conn.execute(\"\"\"CREATE INDEX my_hnsw_cosine_index\n",
    "                ON embeddings\n",
    "                USING HNSW (vec)\n",
    "                WITH (metric = 'cosine');\"\"\")\n",
    "\n",
    "# as opções são l2sq, cosine e ip (inner product)"
   ]
  }
 ],
 "metadata": {
  "kernelspec": {
   "display_name": "test_db",
   "language": "python",
   "name": "python3"
  },
  "language_info": {
   "codemirror_mode": {
    "name": "ipython",
    "version": 3
   },
   "file_extension": ".py",
   "mimetype": "text/x-python",
   "name": "python",
   "nbconvert_exporter": "python",
   "pygments_lexer": "ipython3",
   "version": "3.12.4"
  }
 },
 "nbformat": 4,
 "nbformat_minor": 2
}
