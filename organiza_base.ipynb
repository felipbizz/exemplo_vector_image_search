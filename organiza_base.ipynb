{
 "cells": [
  {
   "cell_type": "markdown",
   "metadata": {},
   "source": [
    "## Organizando as imagens em uma pasta única"
   ]
  },
  {
   "cell_type": "code",
   "execution_count": 10,
   "metadata": {},
   "outputs": [
    {
     "name": "stderr",
     "output_type": "stream",
     "text": [
      "Copiando fotos: 100%|██████████| 13233/13233 [01:48<00:00, 121.83arquivo/s]"
     ]
    },
    {
     "name": "stdout",
     "output_type": "stream",
     "text": [
      "Todas as fotos .jpg foram copiadas para a pasta 'fotos_celebs'.\n"
     ]
    },
    {
     "name": "stderr",
     "output_type": "stream",
     "text": [
      "\n"
     ]
    }
   ],
   "source": [
    "import os\n",
    "import shutil\n",
    "from tqdm import tqdm\n",
    "\n",
    "# Diretório principal contendo as pastas com as fotos\n",
    "diretorio_principal = './archive/lfw-funneled/lfw_funneled'\n",
    "\n",
    "# Diretório onde as fotos serão copiadas\n",
    "diretorio_destino = 'fotos_celebs'\n",
    "\n",
    "# Cria o diretório de destino se ele não existir\n",
    "os.makedirs(diretorio_destino, exist_ok=True)\n",
    "arquivos_jpg = []\n",
    "\n",
    "# Percorre todas as pastas e arquivos dentro do diretório principal\n",
    "for root, dirs, files in os.walk(diretorio_principal):\n",
    "    for file in files:\n",
    "        # Verifica se o arquivo tem a extensão .jpg\n",
    "        if file.lower().endswith('.jpg'):\n",
    "            # Adiciona o caminho completo do arquivo à lista\n",
    "            arquivos_jpg.append(os.path.join(root, file))\n",
    "\n",
    "# Exibe a barra de progresso para copiar os arquivos\n",
    "for caminho_arquivo in tqdm(arquivos_jpg, desc=\"Copiando fotos\", unit=\"arquivo\"):\n",
    "    # Copia o arquivo para o diretório de destino\n",
    "    shutil.copy(caminho_arquivo, diretorio_destino)\n",
    "\n",
    "print(\"Todas as fotos .jpg foram copiadas para a pasta 'fotos_celebs'.\")"
   ]
  },
  {
   "cell_type": "markdown",
   "metadata": {},
   "source": [
    "## Criando função para converter imagens em embeddings"
   ]
  },
  {
   "cell_type": "code",
   "execution_count": 1,
   "metadata": {},
   "outputs": [
    {
     "name": "stderr",
     "output_type": "stream",
     "text": [
      "c:\\Users\\felip\\anaconda3\\envs\\yolo_pose\\Lib\\site-packages\\torchvision\\models\\_utils.py:208: UserWarning: The parameter 'pretrained' is deprecated since 0.13 and may be removed in the future, please use 'weights' instead.\n",
      "  warnings.warn(\n",
      "c:\\Users\\felip\\anaconda3\\envs\\yolo_pose\\Lib\\site-packages\\torchvision\\models\\_utils.py:223: UserWarning: Arguments other than a weight enum or `None` for 'weights' are deprecated since 0.13 and may be removed in the future. The current behavior is equivalent to passing `weights=ResNet50_Weights.IMAGENET1K_V1`. You can also use `weights=ResNet50_Weights.DEFAULT` to get the most up-to-date weights.\n",
      "  warnings.warn(msg)\n"
     ]
    }
   ],
   "source": [
    "import os\n",
    "import torch\n",
    "import torchvision.transforms as transforms\n",
    "import torch.nn as nn\n",
    "from torchvision import models\n",
    "from PIL import Image\n",
    "import numpy as np\n",
    "from tqdm import tqdm\n",
    "\n",
    "# Diretório contendo as imagens\n",
    "diretorio_imagens = 'fotos_celebs'\n",
    "\n",
    "# Arquivo para salvar os embeddings\n",
    "arquivo_embeddings = 'embeddings.npy'\n",
    "\n",
    "# Configura o modelo e a transformação das imagens\n",
    "class ResNet50WithEmbedding(nn.Module):\n",
    "    def __init__(self, embedding_dim):\n",
    "        super(ResNet50WithEmbedding, self).__init__()\n",
    "        self.resnet50 = models.resnet50(pretrained=True)\n",
    "        self.resnet50.fc = nn.Linear(self.resnet50.fc.in_features, embedding_dim)\n",
    "    \n",
    "    def forward(self, x):\n",
    "        return self.resnet50(x)\n",
    "\n",
    "embedding_dim = 512\n",
    "model = ResNet50WithEmbedding(embedding_dim)\n",
    "model.eval()  # Configura o modelo para modo de avaliação\n",
    "\n",
    "transform = transforms.Compose([\n",
    "    transforms.Resize((256, 256)),\n",
    "    transforms.CenterCrop(224),\n",
    "    transforms.ToTensor(),\n",
    "    transforms.Normalize(mean=[0.485, 0.456, 0.406], std=[0.229, 0.224, 0.225]),\n",
    "])\n",
    "\n",
    "# Função para converter imagem em embedding\n",
    "def imagem_para_embedding(caminho_imagem):\n",
    "    image = Image.open(caminho_imagem).convert('RGB')\n",
    "    image = transform(image).unsqueeze(0)  # Adiciona a dimensão do lote\n",
    "    with torch.no_grad():\n",
    "        features = model(image)\n",
    "    return features.squeeze().numpy()  # Remove a dimensão do lote e converte para numpy array"
   ]
  },
  {
   "cell_type": "markdown",
   "metadata": {},
   "source": [
    "### Testando em uma imagem para ver como está funcionando"
   ]
  },
  {
   "cell_type": "code",
   "execution_count": 2,
   "metadata": {},
   "outputs": [],
   "source": [
    "caminho_imagem = 'fotos_celebs/Aaron_Eckhart_0001.jpg'\n",
    "\n",
    "image = Image.open(caminho_imagem).convert('RGB')\n",
    "image = transform(image).unsqueeze(0)  # Adiciona a dimensão do lote\n",
    "with torch.no_grad():\n",
    "    features = model(image)\n",
    "embedding = features.squeeze().numpy()"
   ]
  },
  {
   "cell_type": "code",
   "execution_count": 3,
   "metadata": {},
   "outputs": [
    {
     "data": {
      "text/plain": [
       "(512,)"
      ]
     },
     "execution_count": 3,
     "metadata": {},
     "output_type": "execute_result"
    }
   ],
   "source": [
    "embedding.shape"
   ]
  },
  {
   "cell_type": "markdown",
   "metadata": {},
   "source": [
    "## Convertendo todas as imagens em embeddings"
   ]
  },
  {
   "cell_type": "code",
   "execution_count": 4,
   "metadata": {},
   "outputs": [
    {
     "name": "stderr",
     "output_type": "stream",
     "text": [
      "Gerando embeddings: 100%|██████████| 13233/13233 [38:07<00:00,  5.78imagem/s] "
     ]
    },
    {
     "name": "stdout",
     "output_type": "stream",
     "text": [
      "Os embeddings foram salvos em 'embeddings.npy'.\n"
     ]
    },
    {
     "name": "stderr",
     "output_type": "stream",
     "text": [
      "\n"
     ]
    }
   ],
   "source": [
    "# Lista os arquivos de imagem\n",
    "arquivos_imagens = [os.path.join(diretorio_imagens, f) for f in os.listdir(diretorio_imagens) if f.lower().endswith('.jpg')]\n",
    "\n",
    "# Armazena os embeddings\n",
    "embeddings = []\n",
    "\n",
    "# Processa as imagens e gera embeddings\n",
    "for caminho_imagem in tqdm(arquivos_imagens, desc=\"Gerando embeddings\", unit=\"imagem\"):\n",
    "    embedding = imagem_para_embedding(caminho_imagem)\n",
    "    embeddings.append(embedding)\n",
    "\n",
    "# Salva os embeddings em um arquivo .npy\n",
    "np.save(arquivo_embeddings, np.array(embeddings))\n",
    "\n",
    "print(f\"Os embeddings foram salvos em '{arquivo_embeddings}'.\")"
   ]
  },
  {
   "cell_type": "code",
   "execution_count": 14,
   "metadata": {},
   "outputs": [],
   "source": [
    "import pandas as pd\n",
    "\n",
    "df = pd.DataFrame([arquivos_imagens, embeddings]).T\n",
    "df = df.rename(columns={0: 'filename', 1: 'emb'})\n",
    "df['filename'] = df['filename'].str.replace('fotos_celebs\\\\', '')\n",
    "df.to_parquet('embeddings.parquet')"
   ]
  }
 ],
 "metadata": {
  "kernelspec": {
   "display_name": "yolo_pose",
   "language": "python",
   "name": "python3"
  },
  "language_info": {
   "codemirror_mode": {
    "name": "ipython",
    "version": 3
   },
   "file_extension": ".py",
   "mimetype": "text/x-python",
   "name": "python",
   "nbconvert_exporter": "python",
   "pygments_lexer": "ipython3",
   "version": "3.11.5"
  }
 },
 "nbformat": 4,
 "nbformat_minor": 2
}
